{
 "cells": [
  {
   "cell_type": "markdown",
   "metadata": {},
   "source": [
    "Big 0 exercises and refresh"
   ]
  },
  {
   "cell_type": "code",
   "execution_count": 35,
   "metadata": {
    "scrolled": true
   },
   "outputs": [],
   "source": [
    "#Count Permutations\n",
    "def permutation_aux(word):\n",
    "    permutation(word, \"\")\n",
    "    \n",
    "def permutation(word, prefix):\n",
    "    if len(word) == 0:\n",
    "        print('RETURN: {}'.format(prefix))\n",
    "    else:\n",
    "        fobr i in range(0, len(word)):\n",
    "            rem = word[0:i] + word[i+1:]\n",
    "            print('word {} rem {} prefix {}'.format(word, rem, prefix))\n",
    "            permutation(rem, prefix+word[i])\n",
    "#permutation_aux('1234')"
   ]
  },
  {
   "cell_type": "markdown",
   "metadata": {},
   "source": [
    "Given an array of integer values count the number of pairs that have a difference of K.\n",
    "Example: {1, 7, 5, 9, 2, 12, 3} and k = 2 the pairs with difference of are: (1,3), (3,5) (5, 7), (7,9)"
   ]
  },
  {
   "cell_type": "code",
   "execution_count": 36,
   "metadata": {
    "scrolled": true
   },
   "outputs": [],
   "source": [
    "#BFS\n",
    "from random import randint\n",
    "n = 100\n",
    "random_array = [randint(0,100) for i in range(n+1)]\n",
    "fixed_array = [1, 7, 5, 9, 2, 12, 3]\n",
    "k = 2\n",
    "\n",
    "def countPairs(int_array, k):\n",
    "    pairs = 0    \n",
    "    for i in int_array:\n",
    "        for j in int_array:\n",
    "            if abs(i-j) == k:\n",
    "                pairs += 1\n",
    "    return pairs\n",
    "\n",
    "def countPairsHashed(int_array, k):\n",
    "    dict_array = dict(zip(int_array, int_array))\n",
    "    pairs = 0\n",
    "    for i in int_array:\n",
    "        if abs(i - k) in int_array:\n",
    "            pairs += 1\n",
    "    return pairs"
   ]
  },
  {
   "cell_type": "code",
   "execution_count": 37,
   "metadata": {
    "scrolled": true
   },
   "outputs": [
    {
     "name": "stdout",
     "output_type": "stream",
     "text": [
      "932 µs ± 7.5 µs per loop (mean ± std. dev. of 7 runs, 1000 loops each)\n"
     ]
    }
   ],
   "source": [
    "%%timeit                \n",
    "pairs = countPairs(random_array, k)"
   ]
  },
  {
   "cell_type": "code",
   "execution_count": 38,
   "metadata": {},
   "outputs": [
    {
     "name": "stdout",
     "output_type": "stream",
     "text": [
      "85.4 µs ± 395 ns per loop (mean ± std. dev. of 7 runs, 10000 loops each)\n"
     ]
    }
   ],
   "source": [
    "%%timeit                \n",
    "pairs = countPairsHashed(random_array, k)"
   ]
  }
 ],
 "metadata": {
  "kernelspec": {
   "display_name": "Python [default]",
   "language": "python",
   "name": "python3"
  },
  "language_info": {
   "codemirror_mode": {
    "name": "ipython",
    "version": 3
   },
   "file_extension": ".py",
   "mimetype": "text/x-python",
   "name": "python",
   "nbconvert_exporter": "python",
   "pygments_lexer": "ipython3",
   "version": "3.6.3"
  }
 },
 "nbformat": 4,
 "nbformat_minor": 2
}
