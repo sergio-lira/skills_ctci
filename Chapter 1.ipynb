{
 "cells": [
  {
   "cell_type": "markdown",
   "metadata": {},
   "source": [
    "Problem 1"
   ]
  },
  {
   "cell_type": "code",
   "execution_count": 17,
   "metadata": {},
   "outputs": [],
   "source": [
    "def getCharVector(c: str) -> int:\n",
    "    c_val = ord(c) - ord('a')\n",
    "    return 1 << c_val\n",
    "\n",
    "def isUnique(word: str) -> bool:\n",
    "    _vector = 0\n",
    "    for c in word:\n",
    "        c_ord = getCharVector(c)\n",
    "        if _vector & c_ord > 0:\n",
    "            return False\n",
    "        else:\n",
    "            _vector |= c_ord\n",
    "    return True"
   ]
  },
  {
   "cell_type": "code",
   "execution_count": 45,
   "metadata": {},
   "outputs": [
    {
     "data": {
      "text/plain": [
       "False"
      ]
     },
     "execution_count": 45,
     "metadata": {},
     "output_type": "execute_result"
    }
   ],
   "source": [
    "isUnique('abcdea')"
   ]
  },
  {
   "cell_type": "markdown",
   "metadata": {},
   "source": [
    "Problem 2"
   ]
  },
  {
   "cell_type": "code",
   "execution_count": 51,
   "metadata": {},
   "outputs": [],
   "source": [
    "from collections import defaultdict\n",
    "def isPermutation(a:str, b:str) -> bool:\n",
    "    frec = defaultdict(int)\n",
    "    if len(a) != len(b):\n",
    "        return False\n",
    "    for c in a:\n",
    "        frec[c] += 1\n",
    "    for c in b:\n",
    "        frec[c] -= 1\n",
    "    for k, v in frec.items():\n",
    "        if v != 0:\n",
    "            return False\n",
    "    return True"
   ]
  },
  {
   "cell_type": "code",
   "execution_count": 53,
   "metadata": {},
   "outputs": [
    {
     "data": {
      "text/plain": [
       "True"
      ]
     },
     "execution_count": 53,
     "metadata": {},
     "output_type": "execute_result"
    }
   ],
   "source": [
    "isPermutation('aacde','cedaa')"
   ]
  },
  {
   "cell_type": "markdown",
   "metadata": {},
   "source": [
    "Problem 3"
   ]
  },
  {
   "cell_type": "code",
   "execution_count": 41,
   "metadata": {},
   "outputs": [],
   "source": [
    "def URLfy(s : [], end: int) -> [str]:\n",
    "    j = len(s)-1\n",
    "    for i in range(end-1, -1, -1):\n",
    "        if s[i] != ' ':\n",
    "            s[j] = s[i]\n",
    "            j -= 1\n",
    "        else:\n",
    "            s[j] = '0'\n",
    "            s[j-1] = '2'\n",
    "            s[j-2] = '%'\n",
    "            j -= 3\n",
    "    return s"
   ]
  },
  {
   "cell_type": "code",
   "execution_count": 42,
   "metadata": {
    "scrolled": false
   },
   "outputs": [
    {
     "name": "stdout",
     "output_type": "stream",
     "text": [
      "['M', 'r', '%', '2', '0', 'J', 'o', 'h', 'n', '%', '2', '0', 'S', 'm', 'i', 't', 'h']\n"
     ]
    }
   ],
   "source": [
    "result = URLfy(list('Mr John Smith    '), 13)\n",
    "print(str(result))"
   ]
  },
  {
   "cell_type": "markdown",
   "metadata": {},
   "source": [
    "Problem 4"
   ]
  },
  {
   "cell_type": "code",
   "execution_count": 61,
   "metadata": {},
   "outputs": [],
   "source": [
    "from collections import defaultdict\n",
    "def isPermutationPalindrome(s: str) -> bool:\n",
    "    fr = defaultdict(bool)\n",
    "    for c in s:\n",
    "        if c != ' ':\n",
    "            if fr[c]:\n",
    "                fr[c] = False\n",
    "            else:\n",
    "                fr[c] = True\n",
    "    count_unique = 0\n",
    "    for k, v in fr.items():\n",
    "        if v:\n",
    "            count_unique += 1\n",
    "    if count_unique > 1:\n",
    "        return False\n",
    "    return True"
   ]
  },
  {
   "cell_type": "code",
   "execution_count": 64,
   "metadata": {},
   "outputs": [
    {
     "data": {
      "text/plain": [
       "False"
      ]
     },
     "execution_count": 64,
     "metadata": {},
     "output_type": "execute_result"
    }
   ],
   "source": [
    "isPermutationPalindrome('tat cat')"
   ]
  },
  {
   "cell_type": "markdown",
   "metadata": {},
   "source": [
    "Problem 5"
   ]
  },
  {
   "cell_type": "code",
   "execution_count": 73,
   "metadata": {},
   "outputs": [],
   "source": [
    "def oneAway(a :str, b: str) -> bool:\n",
    "    diff = abs(len(a) - len(b))\n",
    "    if diff > 1:\n",
    "        return False\n",
    "    \n",
    "    chars = []\n",
    "    for c in a:\n",
    "        chars.append(c)\n",
    "    for c in b:\n",
    "        if c not in chars:\n",
    "            chars.append(c)\n",
    "        else:\n",
    "            chars.pop(chars.index(c))\n",
    "    #print(chars)\n",
    "    if len(chars) + diff > 2:\n",
    "        return False\n",
    "    \n",
    "    return True"
   ]
  },
  {
   "cell_type": "code",
   "execution_count": 76,
   "metadata": {
    "scrolled": true
   },
   "outputs": [
    {
     "name": "stdout",
     "output_type": "stream",
     "text": [
      "pale pal\n",
      "True\n",
      "pale pales\n",
      "True\n",
      "pale bale\n",
      "True\n",
      "pale bake\n",
      "False\n",
      "abcdefg  abcdef \n",
      "True\n"
     ]
    }
   ],
   "source": [
    "x = [('pale','pal'),('pale','pales'),('pale','bale'),('pale','bake'),('abcdefg ','abcdef ')]\n",
    "for a,b in x:\n",
    "    print('{} {}'.format(a,b))\n",
    "    print(oneAway(a, b))"
   ]
  },
  {
   "cell_type": "markdown",
   "metadata": {},
   "source": [
    "Problem 6 - If string concatenation is a problem, usage a list and writte the list at the end"
   ]
  },
  {
   "cell_type": "code",
   "execution_count": 4,
   "metadata": {},
   "outputs": [],
   "source": [
    "def compress(s: str) -> str:\n",
    "    if len(s) == 0:\n",
    "        return s\n",
    "    \n",
    "    compress = ''\n",
    "    count = 1\n",
    "    current = s[1]\n",
    "    \n",
    "    for c in s[1:]:\n",
    "        if current != c:\n",
    "            compress += current + str(count)\n",
    "            count = 0\n",
    "            current = c\n",
    "        count += 1\n",
    "    \n",
    "    compress += current + str(count)\n",
    "    \n",
    "    if len(compress) >= len(s):\n",
    "        return s\n",
    "    \n",
    "    return compress\n",
    "    "
   ]
  },
  {
   "cell_type": "code",
   "execution_count": 5,
   "metadata": {},
   "outputs": [
    {
     "data": {
      "text/plain": [
       "'a2b3c4e4f2'"
      ]
     },
     "execution_count": 5,
     "metadata": {},
     "output_type": "execute_result"
    }
   ],
   "source": [
    "compress('aabbbcccceeeeff')"
   ]
  }
 ],
 "metadata": {
  "kernelspec": {
   "display_name": "Python 3",
   "language": "python",
   "name": "python3"
  },
  "language_info": {
   "codemirror_mode": {
    "name": "ipython",
    "version": 3
   },
   "file_extension": ".py",
   "mimetype": "text/x-python",
   "name": "python",
   "nbconvert_exporter": "python",
   "pygments_lexer": "ipython3",
   "version": "3.6.5"
  }
 },
 "nbformat": 4,
 "nbformat_minor": 2
}
