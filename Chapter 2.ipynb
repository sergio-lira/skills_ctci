{
 "cells": [
  {
   "cell_type": "markdown",
   "metadata": {},
   "source": [
    "Problem 1 - Remove douplicates from single linked list"
   ]
  },
  {
   "cell_type": "code",
   "execution_count": 121,
   "metadata": {},
   "outputs": [],
   "source": [
    "class List:\n",
    " \n",
    "    class Node:        \n",
    "        def __init__(self, val: int):\n",
    "            self.val = val\n",
    "            self.next = None                  \n",
    "    \n",
    "    def __init__(self):\n",
    "        self.head = None\n",
    "        self.tail = None\n",
    "        \n",
    "    def push_to_tail(self, val: int):\n",
    "        if self.head == None:\n",
    "            self.head = self.Node(val)\n",
    "            self.tail = self.head\n",
    "        else:\n",
    "            self.tail.next = self.Node(val)\n",
    "            self.tail = self.tail.next\n",
    "            \n",
    "    def pop_front(self) -> int:\n",
    "        if(self.head == None):\n",
    "            return -1\n",
    "        else:\n",
    "            val = self.head.val\n",
    "            self.head = self.head.next\n",
    "            return val\n",
    "        \n",
    "    def to_str(self) -> str:\n",
    "        current = self.head\n",
    "        s = []\n",
    "        while(current != None):\n",
    "            s.append(current.val)\n",
    "            current = current.next\n",
    "            \n",
    "        return \"\".join(str(s))\n",
    "    \n",
    "    def remove_duplicates_O_n(self):\n",
    "        buffer = []\n",
    "        current = self.head\n",
    "        \n",
    "        if current.next == None: \n",
    "            return\n",
    "        else:\n",
    "            buffer.append(current.val)\n",
    "        \n",
    "        while(current.next != None):\n",
    "            \n",
    "            if current.next.val not in buffer:\n",
    "                buffer.append(current.next.val)\n",
    "                print(str(buffer))\n",
    "            else:\n",
    "                print('Is in buffer: ',current.next.val)\n",
    "                runner = current.next\n",
    "                while(runner.val in buffer ):\n",
    "                    print('runner value: ', runner.val)\n",
    "                    runner = runner.next\n",
    "                    if runner == None:\n",
    "                        return\n",
    "                \n",
    "                buffer.append(runner.val)\n",
    "                print(str(buffer))\n",
    "                current.next = runner\n",
    "                \n",
    "            current = current.next\n",
    "    \n",
    "    def remove_duplicates_lagger(self):\n",
    "        buffer = []\n",
    "        current = self.head\n",
    "        \n",
    "        if current.next == None:\n",
    "            return\n",
    "        else:\n",
    "            buffer.append(current.val)\n",
    "            \n",
    "        runner = current.next\n",
    "        \n",
    "        while(runner != None):\n",
    "            \n",
    "            if runner.val not in buffer:\n",
    "                #print('not in buffer, ',runner.val)\n",
    "                runner = runner.next\n",
    "                current = current.next\n",
    "            else:\n",
    "                at_end = False\n",
    "                while(runner.val in buffer):                    \n",
    "                    runner = runner.next\n",
    "                    \n",
    "                    if runner == None: \n",
    "                        at_end = True\n",
    "                        break\n",
    "                    #print('Moves to next: ', runner.val)\n",
    "                        \n",
    "                if not at_end:\n",
    "                    #print('not at end')\n",
    "                    current.next = runner\n",
    "                    runner = runner.next\n",
    "                    current = current.next\n",
    "                else:\n",
    "                    current.next = runner\n",
    "            \n",
    "            buffer.append(current.val)\n",
    "            #print(str(buffer))\n",
    "    "
   ]
  },
  {
   "cell_type": "code",
   "execution_count": 122,
   "metadata": {},
   "outputs": [
    {
     "name": "stdout",
     "output_type": "stream",
     "text": [
      "[18, 3, 8, 11, 19, 13, 10, 11, 13, 3, 6, 7, 9, 5, 8, 17, 10, 17, 16, 13, 15, 3, 19, 2, 19, 8, 13, 7, 19, 10, 5, 5, 19, 5, 9, 2, 4, 11, 13, 2, 9, 12, 19, 1, 2, 16, 8, 12, 17, 9]\n"
     ]
    }
   ],
   "source": [
    "import random\n",
    "new_list = List()\n",
    "for i in range(50):\n",
    "    i = int(random.uniform(1, 20))\n",
    "    new_list.push_to_tail(i)\n",
    "print(new_list.to_str())"
   ]
  },
  {
   "cell_type": "code",
   "execution_count": 123,
   "metadata": {},
   "outputs": [
    {
     "name": "stdout",
     "output_type": "stream",
     "text": [
      "[18, 3, 8, 11, 19, 13, 10, 6, 7, 9, 5, 17, 16, 15, 2, 4, 12, 1]\n"
     ]
    }
   ],
   "source": [
    "new_list.remove_duplicates_lagger()\n",
    "print(new_list.to_str())"
   ]
  }
 ],
 "metadata": {
  "kernelspec": {
   "display_name": "Python 3",
   "language": "python",
   "name": "python3"
  },
  "language_info": {
   "codemirror_mode": {
    "name": "ipython",
    "version": 3
   },
   "file_extension": ".py",
   "mimetype": "text/x-python",
   "name": "python",
   "nbconvert_exporter": "python",
   "pygments_lexer": "ipython3",
   "version": "3.7.1"
  }
 },
 "nbformat": 4,
 "nbformat_minor": 2
}
